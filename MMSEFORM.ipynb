{
 "cells": [
  {
   "cell_type": "markdown",
   "metadata": {},
   "source": [
    "# Notebook for responding to the Google Form about Predicting MMSE scores"
   ]
  },
  {
   "cell_type": "markdown",
   "metadata": {},
   "source": [
    "This notebook is the code to respond to the google form https://docs.google.com/forms/d/e/1FAIpQLSfKuRvqtKkMWoycQKUdDfc7HM-Ni73XON573PxgY9RiNIYidw/viewform?vc=0&c=0&w=1&flr=0. We will take the responses from a user and send them an email with their predicted change in MMSE score using the machine learning model developed in \"PredictingChangeinMMSE.ipynb.\""
   ]
  },
  {
   "cell_type": "code",
   "execution_count": 1,
   "metadata": {},
   "outputs": [],
   "source": [
    "import pandas as pd"
   ]
  },
  {
   "cell_type": "code",
   "execution_count": 2,
   "metadata": {},
   "outputs": [],
   "source": [
    "df = pd.read_csv(\"Form.csv\") # Getting the information from the google sheet "
   ]
  },
  {
   "cell_type": "code",
   "execution_count": 3,
   "metadata": {},
   "outputs": [],
   "source": [
    "df = df.tail(1) #Getting the latest row"
   ]
  },
  {
   "cell_type": "code",
   "execution_count": 4,
   "metadata": {},
   "outputs": [
    {
     "data": {
      "text/html": [
       "<div>\n",
       "<style scoped>\n",
       "    .dataframe tbody tr th:only-of-type {\n",
       "        vertical-align: middle;\n",
       "    }\n",
       "\n",
       "    .dataframe tbody tr th {\n",
       "        vertical-align: top;\n",
       "    }\n",
       "\n",
       "    .dataframe thead th {\n",
       "        text-align: right;\n",
       "    }\n",
       "</style>\n",
       "<table border=\"1\" class=\"dataframe\">\n",
       "  <thead>\n",
       "    <tr style=\"text-align: right;\">\n",
       "      <th></th>\n",
       "      <th>Timestamp</th>\n",
       "      <th>Name</th>\n",
       "      <th>Email</th>\n",
       "      <th>Date</th>\n",
       "      <th>Diagnosis at baseline test (4 options: CN, EMCI, LMCI, AD)</th>\n",
       "      <th>Age at baseline test</th>\n",
       "      <th>Biological Gender</th>\n",
       "      <th>Years of Education</th>\n",
       "      <th>Enter your ApoE4 genotype. One way to receive the genotype is by purchasing a 23andMe genetic test (requiring a saliva sample).  A 23andMe kit (with health information) costs $199, but it's worth the price as the information about your health is invaluable</th>\n",
       "      <th>Please take a MMSE test and type your score below (number only)</th>\n",
       "      <th>Please enter your APOE Genotype. If you don't enter it properly you'll not receive an accurate reading (Ex: 2,3 or 3,3).</th>\n",
       "    </tr>\n",
       "  </thead>\n",
       "  <tbody>\n",
       "    <tr>\n",
       "      <th>0</th>\n",
       "      <td>3/2/21 0:13</td>\n",
       "      <td>Rohan Penmatcha</td>\n",
       "      <td>rpenmatc@gmail.com</td>\n",
       "      <td>2/10/21</td>\n",
       "      <td>CN</td>\n",
       "      <td>73</td>\n",
       "      <td>Male</td>\n",
       "      <td>16</td>\n",
       "      <td>0</td>\n",
       "      <td>29</td>\n",
       "      <td>3,3</td>\n",
       "    </tr>\n",
       "  </tbody>\n",
       "</table>\n",
       "</div>"
      ],
      "text/plain": [
       "     Timestamp             Name               Email     Date  \\\n",
       "0  3/2/21 0:13  Rohan Penmatcha  rpenmatc@gmail.com  2/10/21   \n",
       "\n",
       "  Diagnosis at baseline test (4 options: CN, EMCI, LMCI, AD)  \\\n",
       "0                                                 CN           \n",
       "\n",
       "   Age at baseline test Biological Gender  Years of Education  \\\n",
       "0                    73              Male                  16   \n",
       "\n",
       "   Enter your ApoE4 genotype. One way to receive the genotype is by purchasing a 23andMe genetic test (requiring a saliva sample).  A 23andMe kit (with health information) costs $199, but it's worth the price as the information about your health is invaluable   \\\n",
       "0                                                  0                                                                                                                                                                                                                   \n",
       "\n",
       "   Please take a MMSE test and type your score below (number only)  \\\n",
       "0                                                 29                 \n",
       "\n",
       "  Please enter your APOE Genotype. If you don't enter it properly you'll not receive an accurate reading (Ex: 2,3 or 3,3).   \n",
       "0                                                3,3                                                                         "
      ]
     },
     "execution_count": 4,
     "metadata": {},
     "output_type": "execute_result"
    }
   ],
   "source": [
    "df"
   ]
  },
  {
   "cell_type": "code",
   "execution_count": 5,
   "metadata": {},
   "outputs": [],
   "source": [
    "email = df['Email']\n",
    "Input = df['Date']\n",
    "Input = df.drop(['Timestamp', 'Name', 'Email', 'Date'], axis=1) # Remove Unneccesary Data\n"
   ]
  },
  {
   "cell_type": "code",
   "execution_count": 6,
   "metadata": {},
   "outputs": [
    {
     "data": {
      "text/plain": [
       "0    rpenmatc@gmail.com\n",
       "Name: Email, dtype: object"
      ]
     },
     "execution_count": 6,
     "metadata": {},
     "output_type": "execute_result"
    }
   ],
   "source": [
    "email "
   ]
  },
  {
   "cell_type": "code",
   "execution_count": 7,
   "metadata": {},
   "outputs": [],
   "source": [
    "Input = Input.rename(columns={'Diagnosis at baseline test (4 options: CN, EMCI, LMCI, AD)': 'DX.bl'})\n"
   ]
  },
  {
   "cell_type": "code",
   "execution_count": 8,
   "metadata": {},
   "outputs": [],
   "source": [
    "Input = Input.rename(columns={'Age at baseline test': 'AGE'})\n",
    "Input = Input.rename(columns={'Biological Gender': 'PTGENDER'})\n",
    "Input = Input.rename(columns={'Years of Education': 'PTEDUCAT'})\n",
    "Input = Input.rename(columns ={\"Enter your ApoE4 genotype. One way to receive the genotype is by purchasing a 23andMe genetic test (requiring a saliva sample).  A 23andMe kit (with health information) costs $199, but it's worth the price as the information about your health is invaluable \" : \"APOE4\"})\n",
    "Input = Input.rename(columns={'Please take a MMSE test and type your score below (number only)': 'MMSE'})\n",
    "Input = Input.rename(columns={\"Please enter your APOE Genotype. If you don't enter it properly you'll not receive an accurate reading (Ex: 2,3 or 3,3).\": 'APOE Genotype'})\n",
    "Input = Input.rename(columns={\"Please enter your APOE Genotype. If you don't enter it properly you'll not receive an accurate reading (Ex: 2,3 or 3,3). \": 'APOE Genotype'})\n",
    "# Renaming the data to fit the model and for simplicity"
   ]
  },
  {
   "cell_type": "code",
   "execution_count": 9,
   "metadata": {},
   "outputs": [
    {
     "data": {
      "text/html": [
       "<div>\n",
       "<style scoped>\n",
       "    .dataframe tbody tr th:only-of-type {\n",
       "        vertical-align: middle;\n",
       "    }\n",
       "\n",
       "    .dataframe tbody tr th {\n",
       "        vertical-align: top;\n",
       "    }\n",
       "\n",
       "    .dataframe thead th {\n",
       "        text-align: right;\n",
       "    }\n",
       "</style>\n",
       "<table border=\"1\" class=\"dataframe\">\n",
       "  <thead>\n",
       "    <tr style=\"text-align: right;\">\n",
       "      <th></th>\n",
       "      <th>DX.bl</th>\n",
       "      <th>AGE</th>\n",
       "      <th>PTGENDER</th>\n",
       "      <th>PTEDUCAT</th>\n",
       "      <th>APOE4</th>\n",
       "      <th>MMSE</th>\n",
       "      <th>APOE Genotype</th>\n",
       "    </tr>\n",
       "  </thead>\n",
       "  <tbody>\n",
       "    <tr>\n",
       "      <th>0</th>\n",
       "      <td>CN</td>\n",
       "      <td>73</td>\n",
       "      <td>Male</td>\n",
       "      <td>16</td>\n",
       "      <td>0</td>\n",
       "      <td>29</td>\n",
       "      <td>3,3</td>\n",
       "    </tr>\n",
       "  </tbody>\n",
       "</table>\n",
       "</div>"
      ],
      "text/plain": [
       "  DX.bl  AGE PTGENDER  PTEDUCAT  APOE4  MMSE APOE Genotype\n",
       "0    CN   73     Male        16      0    29           3,3"
      ]
     },
     "execution_count": 9,
     "metadata": {},
     "output_type": "execute_result"
    }
   ],
   "source": [
    "Input"
   ]
  },
  {
   "cell_type": "code",
   "execution_count": 10,
   "metadata": {},
   "outputs": [],
   "source": [
    "MMSE_BASELINE_SCORE = Input.loc[0, 'MMSE']\n",
    "MMSE_BASELINE_SCORE = str(MMSE_BASELINE_SCORE) #Getting the baseline MMSE score"
   ]
  },
  {
   "cell_type": "code",
   "execution_count": 11,
   "metadata": {},
   "outputs": [],
   "source": [
    "import numpy as np\n",
    "import sklearn as sk\n",
    "import pandas as pd\n",
    "import os\n",
    "import matplotlib.pyplot as plt\n",
    "import seaborn as sns\n",
    "import warnings\n",
    "import math \n",
    "\n",
    "from numpy import mean\n",
    "from numpy import std\n",
    "from numpy import absolute\n",
    "from math import sqrt\n",
    "from numpy.random import randn\n",
    "from sklearn.model_selection import train_test_split\n",
    "from sklearn import svm\n",
    "from sklearn.model_selection import cross_val_score\n",
    "from sklearn.metrics import mean_squared_error\n",
    "from sklearn.metrics import mean_absolute_error\n",
    "from sklearn.linear_model import LinearRegression\n",
    "from sklearn.preprocessing import StandardScaler\n",
    "from sklearn.metrics import explained_variance_score\n",
    "from sklearn.tree import DecisionTreeRegressor\n",
    "from sklearn.ensemble import RandomForestRegressor\n",
    "from sklearn.neural_network import MLPClassifier\n",
    "from sklearn.metrics import accuracy_score\n",
    "from sklearn.neighbors import KNeighborsRegressor\n",
    "from sklearn.linear_model import ElasticNet\n",
    "from sklearn.model_selection import RepeatedKFold\n",
    "\n",
    "warnings.filterwarnings('ignore')\n",
    "%matplotlib inline"
   ]
  },
  {
   "cell_type": "code",
   "execution_count": 12,
   "metadata": {},
   "outputs": [],
   "source": [
    "data = pd.read_csv(\"ADNI_Training_Q1_APOE_July22.2014.csv\") # Get the Data\n",
    "data = data.drop(['RID', 'PTID', 'VISCODE', 'EXAMDATE'], axis=1) # Remove Unneccesary Data\n",
    "data = data.append(Input) #Adding the User's data for preprocessing\n",
    "categorical_variables = ['DX.bl', 'PTGENDER', 'APOE Genotype']\n",
    "numerical_variables = ['AGE','PTEDUCAT', 'APOE4', 'MMSE']\n",
    "for var in categorical_variables:\n",
    "    data = pd.concat([data, pd.get_dummies(data[var])], axis=1)\n",
    "    data = data.drop(var, axis=1)\n",
    "# Implements One Hot Encoder for the purpose of replacing the Categorical Values with Numerical Values to implement regression models"
   ]
  },
  {
   "cell_type": "code",
   "execution_count": 13,
   "metadata": {},
   "outputs": [
    {
     "data": {
      "text/html": [
       "<div>\n",
       "<style scoped>\n",
       "    .dataframe tbody tr th:only-of-type {\n",
       "        vertical-align: middle;\n",
       "    }\n",
       "\n",
       "    .dataframe tbody tr th {\n",
       "        vertical-align: top;\n",
       "    }\n",
       "\n",
       "    .dataframe thead th {\n",
       "        text-align: right;\n",
       "    }\n",
       "</style>\n",
       "<table border=\"1\" class=\"dataframe\">\n",
       "  <thead>\n",
       "    <tr style=\"text-align: right;\">\n",
       "      <th></th>\n",
       "      <th>AGE</th>\n",
       "      <th>PTEDUCAT</th>\n",
       "      <th>APOE4</th>\n",
       "      <th>MMSE</th>\n",
       "      <th>AD</th>\n",
       "      <th>CN</th>\n",
       "      <th>EMCI</th>\n",
       "      <th>LMCI</th>\n",
       "      <th>Female</th>\n",
       "      <th>Male</th>\n",
       "      <th>2,2</th>\n",
       "      <th>2,3</th>\n",
       "      <th>2,4</th>\n",
       "      <th>3,3</th>\n",
       "      <th>3,4</th>\n",
       "      <th>4,4</th>\n",
       "    </tr>\n",
       "  </thead>\n",
       "  <tbody>\n",
       "    <tr>\n",
       "      <th>0</th>\n",
       "      <td>73.0</td>\n",
       "      <td>16</td>\n",
       "      <td>0</td>\n",
       "      <td>29</td>\n",
       "      <td>0</td>\n",
       "      <td>1</td>\n",
       "      <td>0</td>\n",
       "      <td>0</td>\n",
       "      <td>0</td>\n",
       "      <td>1</td>\n",
       "      <td>0</td>\n",
       "      <td>0</td>\n",
       "      <td>0</td>\n",
       "      <td>1</td>\n",
       "      <td>0</td>\n",
       "      <td>0</td>\n",
       "    </tr>\n",
       "  </tbody>\n",
       "</table>\n",
       "</div>"
      ],
      "text/plain": [
       "    AGE  PTEDUCAT  APOE4  MMSE  AD  CN  EMCI  LMCI  Female  Male  2,2  2,3  \\\n",
       "0  73.0        16      0    29   0   1     0     0       0     1    0    0   \n",
       "\n",
       "   2,4  3,3  3,4  4,4  \n",
       "0    0    1    0    0  "
      ]
     },
     "execution_count": 13,
     "metadata": {},
     "output_type": "execute_result"
    }
   ],
   "source": [
    "r = len(data)\n",
    "Input = data.iloc[[r - 1]]\n",
    "Input #Getting the information for the user after running through One Hot Encoder"
   ]
  },
  {
   "cell_type": "code",
   "execution_count": 14,
   "metadata": {},
   "outputs": [],
   "source": [
    "data = data[:1534] #Removing the User's input from the data "
   ]
  },
  {
   "cell_type": "code",
   "execution_count": 15,
   "metadata": {},
   "outputs": [
    {
     "data": {
      "text/html": [
       "<div>\n",
       "<style scoped>\n",
       "    .dataframe tbody tr th:only-of-type {\n",
       "        vertical-align: middle;\n",
       "    }\n",
       "\n",
       "    .dataframe tbody tr th {\n",
       "        vertical-align: top;\n",
       "    }\n",
       "\n",
       "    .dataframe thead th {\n",
       "        text-align: right;\n",
       "    }\n",
       "</style>\n",
       "<table border=\"1\" class=\"dataframe\">\n",
       "  <thead>\n",
       "    <tr style=\"text-align: right;\">\n",
       "      <th></th>\n",
       "      <th>AGE</th>\n",
       "      <th>PTEDUCAT</th>\n",
       "      <th>APOE4</th>\n",
       "      <th>MMSE</th>\n",
       "      <th>AD</th>\n",
       "      <th>CN</th>\n",
       "      <th>EMCI</th>\n",
       "      <th>LMCI</th>\n",
       "      <th>Female</th>\n",
       "      <th>Male</th>\n",
       "      <th>2,2</th>\n",
       "      <th>2,3</th>\n",
       "      <th>2,4</th>\n",
       "      <th>3,3</th>\n",
       "      <th>3,4</th>\n",
       "      <th>4,4</th>\n",
       "    </tr>\n",
       "  </thead>\n",
       "  <tbody>\n",
       "    <tr>\n",
       "      <th>0</th>\n",
       "      <td>73.7</td>\n",
       "      <td>16</td>\n",
       "      <td>0</td>\n",
       "      <td>29</td>\n",
       "      <td>0</td>\n",
       "      <td>1</td>\n",
       "      <td>0</td>\n",
       "      <td>0</td>\n",
       "      <td>0</td>\n",
       "      <td>1</td>\n",
       "      <td>0</td>\n",
       "      <td>0</td>\n",
       "      <td>0</td>\n",
       "      <td>1</td>\n",
       "      <td>0</td>\n",
       "      <td>0</td>\n",
       "    </tr>\n",
       "    <tr>\n",
       "      <th>1</th>\n",
       "      <td>73.7</td>\n",
       "      <td>16</td>\n",
       "      <td>0</td>\n",
       "      <td>29</td>\n",
       "      <td>0</td>\n",
       "      <td>1</td>\n",
       "      <td>0</td>\n",
       "      <td>0</td>\n",
       "      <td>0</td>\n",
       "      <td>1</td>\n",
       "      <td>0</td>\n",
       "      <td>0</td>\n",
       "      <td>0</td>\n",
       "      <td>1</td>\n",
       "      <td>0</td>\n",
       "      <td>0</td>\n",
       "    </tr>\n",
       "    <tr>\n",
       "      <th>2</th>\n",
       "      <td>80.4</td>\n",
       "      <td>13</td>\n",
       "      <td>0</td>\n",
       "      <td>25</td>\n",
       "      <td>0</td>\n",
       "      <td>0</td>\n",
       "      <td>0</td>\n",
       "      <td>1</td>\n",
       "      <td>1</td>\n",
       "      <td>0</td>\n",
       "      <td>0</td>\n",
       "      <td>0</td>\n",
       "      <td>0</td>\n",
       "      <td>1</td>\n",
       "      <td>0</td>\n",
       "      <td>0</td>\n",
       "    </tr>\n",
       "    <tr>\n",
       "      <th>3</th>\n",
       "      <td>80.4</td>\n",
       "      <td>13</td>\n",
       "      <td>0</td>\n",
       "      <td>26</td>\n",
       "      <td>0</td>\n",
       "      <td>0</td>\n",
       "      <td>0</td>\n",
       "      <td>1</td>\n",
       "      <td>1</td>\n",
       "      <td>0</td>\n",
       "      <td>0</td>\n",
       "      <td>0</td>\n",
       "      <td>0</td>\n",
       "      <td>1</td>\n",
       "      <td>0</td>\n",
       "      <td>0</td>\n",
       "    </tr>\n",
       "    <tr>\n",
       "      <th>4</th>\n",
       "      <td>80.0</td>\n",
       "      <td>19</td>\n",
       "      <td>0</td>\n",
       "      <td>29</td>\n",
       "      <td>0</td>\n",
       "      <td>0</td>\n",
       "      <td>0</td>\n",
       "      <td>1</td>\n",
       "      <td>1</td>\n",
       "      <td>0</td>\n",
       "      <td>0</td>\n",
       "      <td>0</td>\n",
       "      <td>0</td>\n",
       "      <td>1</td>\n",
       "      <td>0</td>\n",
       "      <td>0</td>\n",
       "    </tr>\n",
       "    <tr>\n",
       "      <th>...</th>\n",
       "      <td>...</td>\n",
       "      <td>...</td>\n",
       "      <td>...</td>\n",
       "      <td>...</td>\n",
       "      <td>...</td>\n",
       "      <td>...</td>\n",
       "      <td>...</td>\n",
       "      <td>...</td>\n",
       "      <td>...</td>\n",
       "      <td>...</td>\n",
       "      <td>...</td>\n",
       "      <td>...</td>\n",
       "      <td>...</td>\n",
       "      <td>...</td>\n",
       "      <td>...</td>\n",
       "      <td>...</td>\n",
       "    </tr>\n",
       "    <tr>\n",
       "      <th>1529</th>\n",
       "      <td>61.9</td>\n",
       "      <td>12</td>\n",
       "      <td>2</td>\n",
       "      <td>27</td>\n",
       "      <td>0</td>\n",
       "      <td>0</td>\n",
       "      <td>1</td>\n",
       "      <td>0</td>\n",
       "      <td>1</td>\n",
       "      <td>0</td>\n",
       "      <td>0</td>\n",
       "      <td>0</td>\n",
       "      <td>0</td>\n",
       "      <td>0</td>\n",
       "      <td>0</td>\n",
       "      <td>1</td>\n",
       "    </tr>\n",
       "    <tr>\n",
       "      <th>1530</th>\n",
       "      <td>71.1</td>\n",
       "      <td>12</td>\n",
       "      <td>2</td>\n",
       "      <td>25</td>\n",
       "      <td>1</td>\n",
       "      <td>0</td>\n",
       "      <td>0</td>\n",
       "      <td>0</td>\n",
       "      <td>0</td>\n",
       "      <td>1</td>\n",
       "      <td>0</td>\n",
       "      <td>0</td>\n",
       "      <td>0</td>\n",
       "      <td>0</td>\n",
       "      <td>0</td>\n",
       "      <td>1</td>\n",
       "    </tr>\n",
       "    <tr>\n",
       "      <th>1531</th>\n",
       "      <td>71.1</td>\n",
       "      <td>12</td>\n",
       "      <td>2</td>\n",
       "      <td>21</td>\n",
       "      <td>1</td>\n",
       "      <td>0</td>\n",
       "      <td>0</td>\n",
       "      <td>0</td>\n",
       "      <td>0</td>\n",
       "      <td>1</td>\n",
       "      <td>0</td>\n",
       "      <td>0</td>\n",
       "      <td>0</td>\n",
       "      <td>0</td>\n",
       "      <td>0</td>\n",
       "      <td>1</td>\n",
       "    </tr>\n",
       "    <tr>\n",
       "      <th>1532</th>\n",
       "      <td>79.4</td>\n",
       "      <td>16</td>\n",
       "      <td>2</td>\n",
       "      <td>22</td>\n",
       "      <td>1</td>\n",
       "      <td>0</td>\n",
       "      <td>0</td>\n",
       "      <td>0</td>\n",
       "      <td>0</td>\n",
       "      <td>1</td>\n",
       "      <td>0</td>\n",
       "      <td>0</td>\n",
       "      <td>0</td>\n",
       "      <td>0</td>\n",
       "      <td>0</td>\n",
       "      <td>1</td>\n",
       "    </tr>\n",
       "    <tr>\n",
       "      <th>1533</th>\n",
       "      <td>79.4</td>\n",
       "      <td>16</td>\n",
       "      <td>2</td>\n",
       "      <td>19</td>\n",
       "      <td>1</td>\n",
       "      <td>0</td>\n",
       "      <td>0</td>\n",
       "      <td>0</td>\n",
       "      <td>0</td>\n",
       "      <td>1</td>\n",
       "      <td>0</td>\n",
       "      <td>0</td>\n",
       "      <td>0</td>\n",
       "      <td>0</td>\n",
       "      <td>0</td>\n",
       "      <td>1</td>\n",
       "    </tr>\n",
       "  </tbody>\n",
       "</table>\n",
       "<p>1534 rows × 16 columns</p>\n",
       "</div>"
      ],
      "text/plain": [
       "       AGE  PTEDUCAT  APOE4  MMSE  AD  CN  EMCI  LMCI  Female  Male  2,2  2,3  \\\n",
       "0     73.7        16      0    29   0   1     0     0       0     1    0    0   \n",
       "1     73.7        16      0    29   0   1     0     0       0     1    0    0   \n",
       "2     80.4        13      0    25   0   0     0     1       1     0    0    0   \n",
       "3     80.4        13      0    26   0   0     0     1       1     0    0    0   \n",
       "4     80.0        19      0    29   0   0     0     1       1     0    0    0   \n",
       "...    ...       ...    ...   ...  ..  ..   ...   ...     ...   ...  ...  ...   \n",
       "1529  61.9        12      2    27   0   0     1     0       1     0    0    0   \n",
       "1530  71.1        12      2    25   1   0     0     0       0     1    0    0   \n",
       "1531  71.1        12      2    21   1   0     0     0       0     1    0    0   \n",
       "1532  79.4        16      2    22   1   0     0     0       0     1    0    0   \n",
       "1533  79.4        16      2    19   1   0     0     0       0     1    0    0   \n",
       "\n",
       "      2,4  3,3  3,4  4,4  \n",
       "0       0    1    0    0  \n",
       "1       0    1    0    0  \n",
       "2       0    1    0    0  \n",
       "3       0    1    0    0  \n",
       "4       0    1    0    0  \n",
       "...   ...  ...  ...  ...  \n",
       "1529    0    0    0    1  \n",
       "1530    0    0    0    1  \n",
       "1531    0    0    0    1  \n",
       "1532    0    0    0    1  \n",
       "1533    0    0    0    1  \n",
       "\n",
       "[1534 rows x 16 columns]"
      ]
     },
     "execution_count": 15,
     "metadata": {},
     "output_type": "execute_result"
    }
   ],
   "source": [
    "data"
   ]
  },
  {
   "cell_type": "code",
   "execution_count": 16,
   "metadata": {},
   "outputs": [],
   "source": [
    "r, c = data.shape\n",
    "MMSE_SCORE = []\n",
    "for var in range(0,r):\n",
    "    if (var % 2) == 0:\n",
    "        continue\n",
    "    MMSE_SCORE.append(data.at[var,'MMSE'] - data.at[var - 1,'MMSE']) #Calculating the Change in MMSE scores over the 2 year period\n",
    "data = data[::2] #Removing the final evaluation row for training\n",
    "data.insert(16, \"MMSE_NEW_SCORE\",MMSE_SCORE, True) #adding the column\n",
    "data.head(2)\n",
    "X = data.drop([\"MMSE_NEW_SCORE\"], axis=1)\n",
    "y = data[\"MMSE_NEW_SCORE\"]\n",
    "r = len(y)\n",
    "for var in range(0,r): #Edited so that a decline of 5 points is the largest \n",
    "    if (var % 2 == 1):\n",
    "        continue\n",
    "    if (y.at[var] < -5):\n",
    "        y.at[var] = -5\n",
    "    if (y.at[var] > 5):\n",
    "        y.at[var] = 5\n",
    "X_train, X_test, y_train, y_test = train_test_split(X, y, test_size=0.2, random_state=120) #Training and Testing sets"
   ]
  },
  {
   "cell_type": "code",
   "execution_count": 17,
   "metadata": {},
   "outputs": [
    {
     "data": {
      "text/plain": [
       "(613, 16)"
      ]
     },
     "execution_count": 17,
     "metadata": {},
     "output_type": "execute_result"
    }
   ],
   "source": [
    "X_train.shape"
   ]
  },
  {
   "cell_type": "code",
   "execution_count": 18,
   "metadata": {},
   "outputs": [
    {
     "data": {
      "text/plain": [
       "(154, 16)"
      ]
     },
     "execution_count": 18,
     "metadata": {},
     "output_type": "execute_result"
    }
   ],
   "source": [
    "X_test.shape\n"
   ]
  },
  {
   "cell_type": "code",
   "execution_count": 19,
   "metadata": {},
   "outputs": [],
   "source": [
    "scaler = StandardScaler()\n",
    "train_scaled = scaler.fit_transform(X_train)\n",
    "test_scaled = scaler.transform(X_test) #Scaling data"
   ]
  },
  {
   "cell_type": "code",
   "execution_count": 20,
   "metadata": {},
   "outputs": [],
   "source": [
    "model = ElasticNet(alpha=0.001, l1_ratio=1) #ElasticNet Model"
   ]
  },
  {
   "cell_type": "code",
   "execution_count": 21,
   "metadata": {},
   "outputs": [
    {
     "name": "stdout",
     "output_type": "stream",
     "text": [
      "The Predicted Decrease in your MMSE score in the next 2 years is:  0\n"
     ]
    }
   ],
   "source": [
    "model.fit(X, y)\n",
    "arr = model.predict(Input) #Predicting the user's change\n",
    "if (arr > 0):\n",
    "        if (arr - math.floor(arr) > 0.5):\n",
    "            arr = math.ceil(arr)\n",
    "        else: \n",
    "            arr = math.floor(arr)\n",
    "if (arr < 0):\n",
    "        if (absolute(arr) - absolute(math.ceil(arr)) > 0.5):\n",
    "            arr = math.floor(arr)\n",
    "        else: \n",
    "            arr = math.ceil(arr)\n",
    "num = str(arr) #Converting the prediction into an integer and converting it to a string for printing\n",
    "print(\"The Predicted Decrease in your MMSE score in the next 2 years is: \", end =\" \")\n",
    "print(num)\n"
   ]
  },
  {
   "cell_type": "code",
   "execution_count": 22,
   "metadata": {},
   "outputs": [
    {
     "name": "stdout",
     "output_type": "stream",
     "text": [
      "Requirement already satisfied: secure-smtplib in /Users/Ravi_Penmatcha/opt/anaconda3/lib/python3.8/site-packages (0.1.1)\n",
      "Note: you may need to restart the kernel to use updated packages.\n"
     ]
    }
   ],
   "source": [
    "pip install secure-smtplib #required installation to send the email "
   ]
  },
  {
   "cell_type": "code",
   "execution_count": 23,
   "metadata": {},
   "outputs": [
    {
     "name": "stdout",
     "output_type": "stream",
     "text": [
      "SUCCESS! Email was sent!\n"
     ]
    }
   ],
   "source": [
    "import smtplib\n",
    "\n",
    "gmail_user = 'rpenmatc@gmail.com' #My email that I will use to send the information\n",
    "gmail_password = 'PASSWORD(HIDDEN FOR PRIVACY)'  #PASSWORD(HIDDEN FOR PRIVACY)\n",
    "\n",
    "sent_from = gmail_user \n",
    "to = ['rpenmatc@gmail.com']\n",
    "subject = 'YOUR FUTURE MMSE SCORE PREDICTION' \n",
    "body = \"Hello, thank you for taking your time to fill out this form. The Mini-Mental State Examination (MMSE) is a is a widely used test of cognitive function among the elderly that can show the severity of dementia. \\n\\nYour predicted future (in around 2 years) MMSE score is \" + MMSE_BASELINE_SCORE + \". That is a change of \" + num + \"  \\n\\n Here is a link for information to understand what this means: https://www.dementiacarecentral.com/mini-mental-state-exam/. \\n\\n Thank You, \\n Rohan Penmatcha\"\n",
    "\n",
    "\n",
    "email_text = \"\"\"\\\n",
    "From: %s\n",
    "To: %s\n",
    "Subject: %s\n",
    "\n",
    "%s\n",
    "\"\"\" % (sent_from, \", \".join(to), subject, body)\n",
    "\n",
    "try:\n",
    "    server = smtplib.SMTP_SSL('smtp.gmail.com', 465) #Transport Layer Security\n",
    "    server.ehlo()\n",
    "    server.login(gmail_user, gmail_password) #Login\n",
    "    server.sendmail(sent_from, to, email_text) #Sending the Email\n",
    "    server.close()\n",
    "\n",
    "    print('SUCCESS! Email was sent!' )\n",
    "except:\n",
    "    print ('Something went wrong...' )"
   ]
  },
  {
   "cell_type": "code",
   "execution_count": 24,
   "metadata": {},
   "outputs": [
    {
     "name": "stdout",
     "output_type": "stream",
     "text": [
      "From the User's point of view, this is how an email will look:\n"
     ]
    }
   ],
   "source": [
    "print (\"From the User's point of view, this is how an email will look:\")"
   ]
  },
  {
   "cell_type": "code",
   "execution_count": 25,
   "metadata": {},
   "outputs": [
    {
     "data": {
      "image/png": "[encoded data removed]",
      "text/plain": [
       "<IPython.core.display.Image object>"
      ]
     },
     "execution_count": 25,
     "metadata": {},
     "output_type": "execute_result"
    }
   ],
   "source": [
    "from IPython.display import Image\n",
    "Image(filename='Example_Email.png') "
   ]
  },
  {
   "cell_type": "markdown",
   "metadata": {},
   "source": [
    "# Conclusion "
   ]
  },
  {
   "cell_type": "markdown",
   "metadata": {},
   "source": [
    "This notebook succesfully runs the Elastic Net machine learning algorithm to take the responses from a patient and send them an email with their predicted future MMSE score. For future updates, I would like to make this an app that one can download on the appstore rather than a juypter notebook script. However, it still accomplishes this benchmark."
   ]
  },
  {
   "cell_type": "code",
   "execution_count": null,
   "metadata": {},
   "outputs": [],
   "source": []
  }
 ],
 "metadata": {
  "kernelspec": {
   "display_name": "Python 3",
   "language": "python",
   "name": "python3"
  },
  "language_info": {
   "codemirror_mode": {
    "name": "ipython",
    "version": 3
   },
   "file_extension": ".py",
   "mimetype": "text/x-python",
   "name": "python",
   "nbconvert_exporter": "python",
   "pygments_lexer": "ipython3",
   "version": "3.8.5"
  }
 },
 "nbformat": 4,
 "nbformat_minor": 4
}
