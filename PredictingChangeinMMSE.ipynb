{
 "cells": [
  {
   "cell_type": "markdown",
   "metadata": {},
   "source": [
    "# ALZHEIMER'S DISEASE PREDICTION (MMSE SCORE)"
   ]
  },
  {
   "cell_type": "markdown",
   "metadata": {},
   "source": [
    "This notebook aims to predict the decrease in MMSE (Mini Mental State Examination) scores over a 2 year period with baseline data using several Machine Learning Models. The Mini Mental State Examination test is a 30-point questionnaire that is used extensively in clinical and research settings to measure cognitive impairment. Predicting a patient's future MMSE test score will aid in early detection and treatment. "
   ]
  },
  {
   "cell_type": "markdown",
   "metadata": {},
   "source": [
    "## The Training Data to be Preprocessed: \n",
    "The training data consist of individuals participating in the Alzheimer’s Disease Neuroimaging Initiative (ADNI), which is a longitudinal multicenter study established in 2004 with the goal of detecting AD at an early stage, tracking disease progression through biomarkers, supporting advances in AD intervention, prevention and treatment, and providing a resource for AD research. The study has grown to >1600 participants with mild cognitive impairment (MCI),ranging from Early MCI (EMCI) to Late MCI (LMCI), Alzheimer's Disease (AD) and elderly, cognitively normal (CN) control subjects that have been recruited over three phases ADNI 1, ADNI GO and ADNI 2."
   ]
  },
  {
   "cell_type": "markdown",
   "metadata": {},
   "source": [
    "  ### -Descriptions  \n",
    "    - RID: Participant roster ID\n",
    "    - PTID: Participant ID\n",
    "    - VISCODE: Visit code\n",
    "    - EXAMDATE: Examination Date\n",
    "    - DX.bl: Diagnosis at baseline\n",
    "    - AGE: Age at baseline\n",
    "    - PTGENDER: Sex\n",
    "    - PTEDUCAT: Years of Education\n",
    "    - APOE4: ApoE4 genotype\n",
    "    - MMSE: MMSE score\n",
    "    - APOE Genotype: APOE allele 1 and allele 2 genotypes"
   ]
  },
  {
   "cell_type": "markdown",
   "metadata": {},
   "source": [
    "### The Goal of this Research is to find a way to accurately predict the change in MMSE scores using easily (and cheap) data that anyone can get. A major problem is the cost of healthcare, so a program that can predict the future MMSE score using this low cost data will help immensely, as an average MRI can cost around 4,000 dollars  "
   ]
  },
  {
   "cell_type": "code",
   "execution_count": 692,
   "metadata": {},
   "outputs": [],
   "source": [
    "import numpy as np\n",
    "import sklearn as sk\n",
    "import pandas as pd\n",
    "import os\n",
    "import matplotlib.pyplot as plt\n",
    "import seaborn as sns\n",
    "import warnings\n",
    "import math \n",
    "\n",
    "from numpy import mean\n",
    "from numpy import std\n",
    "from numpy import absolute\n",
    "from math import sqrt\n",
    "from numpy.random import randn\n",
    "from sklearn.model_selection import train_test_split\n",
    "from sklearn import svm\n",
    "from sklearn.model_selection import cross_val_score\n",
    "from sklearn.metrics import mean_squared_error\n",
    "from sklearn.metrics import mean_absolute_error\n",
    "from sklearn.linear_model import LinearRegression\n",
    "from sklearn.preprocessing import StandardScaler\n",
    "from sklearn.metrics import explained_variance_score\n",
    "from sklearn.tree import DecisionTreeRegressor\n",
    "from sklearn.ensemble import RandomForestRegressor\n",
    "from sklearn.neural_network import MLPClassifier\n",
    "from sklearn.metrics import accuracy_score\n",
    "from sklearn.neighbors import KNeighborsRegressor\n",
    "from sklearn.linear_model import ElasticNet\n",
    "from sklearn.model_selection import RepeatedKFold\n",
    "\n",
    "warnings.filterwarnings('ignore')\n",
    "%matplotlib inline"
   ]
  },
  {
   "cell_type": "code",
   "execution_count": 693,
   "metadata": {},
   "outputs": [
    {
     "data": {
      "text/html": [
       "<div>\n",
       "<style scoped>\n",
       "    .dataframe tbody tr th:only-of-type {\n",
       "        vertical-align: middle;\n",
       "    }\n",
       "\n",
       "    .dataframe tbody tr th {\n",
       "        vertical-align: top;\n",
       "    }\n",
       "\n",
       "    .dataframe thead th {\n",
       "        text-align: right;\n",
       "    }\n",
       "</style>\n",
       "<table border=\"1\" class=\"dataframe\">\n",
       "  <thead>\n",
       "    <tr style=\"text-align: right;\">\n",
       "      <th></th>\n",
       "      <th>RID</th>\n",
       "      <th>PTID</th>\n",
       "      <th>VISCODE</th>\n",
       "      <th>EXAMDATE</th>\n",
       "      <th>DX.bl</th>\n",
       "      <th>AGE</th>\n",
       "      <th>PTGENDER</th>\n",
       "      <th>PTEDUCAT</th>\n",
       "      <th>APOE4</th>\n",
       "      <th>MMSE</th>\n",
       "      <th>APOE Genotype</th>\n",
       "    </tr>\n",
       "  </thead>\n",
       "  <tbody>\n",
       "    <tr>\n",
       "      <th>0</th>\n",
       "      <td>5</td>\n",
       "      <td>011_S_0005</td>\n",
       "      <td>bl</td>\n",
       "      <td>9/7/05</td>\n",
       "      <td>CN</td>\n",
       "      <td>73.7</td>\n",
       "      <td>Male</td>\n",
       "      <td>16</td>\n",
       "      <td>0</td>\n",
       "      <td>29</td>\n",
       "      <td>3,3</td>\n",
       "    </tr>\n",
       "    <tr>\n",
       "      <th>1</th>\n",
       "      <td>5</td>\n",
       "      <td>011_S_0005</td>\n",
       "      <td>m24</td>\n",
       "      <td>9/7/07</td>\n",
       "      <td>CN</td>\n",
       "      <td>73.7</td>\n",
       "      <td>Male</td>\n",
       "      <td>16</td>\n",
       "      <td>0</td>\n",
       "      <td>29</td>\n",
       "      <td>3,3</td>\n",
       "    </tr>\n",
       "    <tr>\n",
       "      <th>2</th>\n",
       "      <td>6</td>\n",
       "      <td>100_S_0006</td>\n",
       "      <td>bl</td>\n",
       "      <td>11/29/05</td>\n",
       "      <td>LMCI</td>\n",
       "      <td>80.4</td>\n",
       "      <td>Female</td>\n",
       "      <td>13</td>\n",
       "      <td>0</td>\n",
       "      <td>25</td>\n",
       "      <td>3,3</td>\n",
       "    </tr>\n",
       "    <tr>\n",
       "      <th>3</th>\n",
       "      <td>6</td>\n",
       "      <td>100_S_0006</td>\n",
       "      <td>m24</td>\n",
       "      <td>11/8/07</td>\n",
       "      <td>LMCI</td>\n",
       "      <td>80.4</td>\n",
       "      <td>Female</td>\n",
       "      <td>13</td>\n",
       "      <td>0</td>\n",
       "      <td>26</td>\n",
       "      <td>3,3</td>\n",
       "    </tr>\n",
       "  </tbody>\n",
       "</table>\n",
       "</div>"
      ],
      "text/plain": [
       "   RID        PTID VISCODE  EXAMDATE DX.bl   AGE PTGENDER  PTEDUCAT  APOE4  \\\n",
       "0    5  011_S_0005      bl    9/7/05    CN  73.7     Male        16      0   \n",
       "1    5  011_S_0005     m24    9/7/07    CN  73.7     Male        16      0   \n",
       "2    6  100_S_0006      bl  11/29/05  LMCI  80.4   Female        13      0   \n",
       "3    6  100_S_0006     m24   11/8/07  LMCI  80.4   Female        13      0   \n",
       "\n",
       "   MMSE APOE Genotype  \n",
       "0    29           3,3  \n",
       "1    29           3,3  \n",
       "2    25           3,3  \n",
       "3    26           3,3  "
      ]
     },
     "execution_count": 693,
     "metadata": {},
     "output_type": "execute_result"
    }
   ],
   "source": [
    "data = pd.read_csv(\"ADNI_Training_Q1_APOE_July22.2014.csv\") # Get the Data\n",
    "data.head(4) # Peak at the data "
   ]
  },
  {
   "cell_type": "code",
   "execution_count": 694,
   "metadata": {},
   "outputs": [],
   "source": [
    "data = data.drop(['RID', 'PTID', 'VISCODE', 'EXAMDATE'], axis=1) # Remove Unneccesary Data\n",
    "categorical_variables = ['DX.bl', 'PTGENDER', 'APOE Genotype']\n",
    "numerical_variables = ['AGE','PTEDUCAT', 'APOE4', 'MMSE']\n",
    "for var in categorical_variables:\n",
    "    data = pd.concat([data, pd.get_dummies(data[var])], axis=1)\n",
    "    data = data.drop(var, axis=1)\n",
    "# Implements One Hot Encoder for the purpose of replacing the Categorical Values with Numerical Values to implement regression models"
   ]
  },
  {
   "cell_type": "markdown",
   "metadata": {},
   "source": [
    "Preprocessing the Data: Removing the checkup data and adding a column to indicate the change of MMSE. (Final MMSE score - Baseline MMSE score = MMSE_NEW_SCORE)"
   ]
  },
  {
   "cell_type": "code",
   "execution_count": 695,
   "metadata": {},
   "outputs": [
    {
     "data": {
      "text/html": [
       "<div>\n",
       "<style scoped>\n",
       "    .dataframe tbody tr th:only-of-type {\n",
       "        vertical-align: middle;\n",
       "    }\n",
       "\n",
       "    .dataframe tbody tr th {\n",
       "        vertical-align: top;\n",
       "    }\n",
       "\n",
       "    .dataframe thead th {\n",
       "        text-align: right;\n",
       "    }\n",
       "</style>\n",
       "<table border=\"1\" class=\"dataframe\">\n",
       "  <thead>\n",
       "    <tr style=\"text-align: right;\">\n",
       "      <th></th>\n",
       "      <th>AGE</th>\n",
       "      <th>PTEDUCAT</th>\n",
       "      <th>APOE4</th>\n",
       "      <th>MMSE</th>\n",
       "      <th>AD</th>\n",
       "      <th>CN</th>\n",
       "      <th>EMCI</th>\n",
       "      <th>LMCI</th>\n",
       "      <th>Female</th>\n",
       "      <th>Male</th>\n",
       "      <th>2,2</th>\n",
       "      <th>2,3</th>\n",
       "      <th>2,4</th>\n",
       "      <th>3,3</th>\n",
       "      <th>3,4</th>\n",
       "      <th>4,4</th>\n",
       "      <th>MMSE_NEW_SCORE</th>\n",
       "    </tr>\n",
       "  </thead>\n",
       "  <tbody>\n",
       "    <tr>\n",
       "      <th>0</th>\n",
       "      <td>73.7</td>\n",
       "      <td>16</td>\n",
       "      <td>0</td>\n",
       "      <td>29</td>\n",
       "      <td>0</td>\n",
       "      <td>1</td>\n",
       "      <td>0</td>\n",
       "      <td>0</td>\n",
       "      <td>0</td>\n",
       "      <td>1</td>\n",
       "      <td>0</td>\n",
       "      <td>0</td>\n",
       "      <td>0</td>\n",
       "      <td>1</td>\n",
       "      <td>0</td>\n",
       "      <td>0</td>\n",
       "      <td>0</td>\n",
       "    </tr>\n",
       "    <tr>\n",
       "      <th>2</th>\n",
       "      <td>80.4</td>\n",
       "      <td>13</td>\n",
       "      <td>0</td>\n",
       "      <td>25</td>\n",
       "      <td>0</td>\n",
       "      <td>0</td>\n",
       "      <td>0</td>\n",
       "      <td>1</td>\n",
       "      <td>1</td>\n",
       "      <td>0</td>\n",
       "      <td>0</td>\n",
       "      <td>0</td>\n",
       "      <td>0</td>\n",
       "      <td>1</td>\n",
       "      <td>0</td>\n",
       "      <td>0</td>\n",
       "      <td>1</td>\n",
       "    </tr>\n",
       "  </tbody>\n",
       "</table>\n",
       "</div>"
      ],
      "text/plain": [
       "    AGE  PTEDUCAT  APOE4  MMSE  AD  CN  EMCI  LMCI  Female  Male  2,2  2,3  \\\n",
       "0  73.7        16      0    29   0   1     0     0       0     1    0    0   \n",
       "2  80.4        13      0    25   0   0     0     1       1     0    0    0   \n",
       "\n",
       "   2,4  3,3  3,4  4,4  MMSE_NEW_SCORE  \n",
       "0    0    1    0    0               0  \n",
       "2    0    1    0    0               1  "
      ]
     },
     "execution_count": 695,
     "metadata": {},
     "output_type": "execute_result"
    }
   ],
   "source": [
    "r, c = data.shape\n",
    "MMSE_SCORE = []\n",
    "for var in range(0,r):\n",
    "    if (var % 2) == 0:\n",
    "        continue\n",
    "    MMSE_SCORE.append(data.at[var,'MMSE'] - data.at[var - 1,'MMSE'])\n",
    "data = data[::2]\n",
    "data.insert(16, \"MMSE_NEW_SCORE\",MMSE_SCORE, True) \n",
    "data.head(2)"
   ]
  },
  {
   "cell_type": "code",
   "execution_count": 696,
   "metadata": {},
   "outputs": [
    {
     "name": "stdout",
     "output_type": "stream",
     "text": [
      "HEAT MAP :\n",
      "\n"
     ]
    },
    {
     "data": {
      "text/html": [
       "<div>\n",
       "<style scoped>\n",
       "    .dataframe tbody tr th:only-of-type {\n",
       "        vertical-align: middle;\n",
       "    }\n",
       "\n",
       "    .dataframe tbody tr th {\n",
       "        vertical-align: top;\n",
       "    }\n",
       "\n",
       "    .dataframe thead th {\n",
       "        text-align: right;\n",
       "    }\n",
       "</style>\n",
       "<table border=\"1\" class=\"dataframe\">\n",
       "  <thead>\n",
       "    <tr style=\"text-align: right;\">\n",
       "      <th></th>\n",
       "      <th>AGE</th>\n",
       "      <th>PTEDUCAT</th>\n",
       "      <th>APOE4</th>\n",
       "      <th>MMSE</th>\n",
       "      <th>AD</th>\n",
       "      <th>CN</th>\n",
       "      <th>EMCI</th>\n",
       "      <th>LMCI</th>\n",
       "      <th>Female</th>\n",
       "      <th>Male</th>\n",
       "      <th>2,2</th>\n",
       "      <th>2,3</th>\n",
       "      <th>2,4</th>\n",
       "      <th>3,3</th>\n",
       "      <th>3,4</th>\n",
       "      <th>4,4</th>\n",
       "      <th>MMSE_NEW_SCORE</th>\n",
       "    </tr>\n",
       "  </thead>\n",
       "  <tbody>\n",
       "    <tr>\n",
       "      <th>AGE</th>\n",
       "      <td>1.000000</td>\n",
       "      <td>-0.038884</td>\n",
       "      <td>-0.189671</td>\n",
       "      <td>-0.093013</td>\n",
       "      <td>0.069228</td>\n",
       "      <td>0.124587</td>\n",
       "      <td>-0.219967</td>\n",
       "      <td>-0.001479</td>\n",
       "      <td>-0.088248</td>\n",
       "      <td>0.088248</td>\n",
       "      <td>-0.022703</td>\n",
       "      <td>-0.026467</td>\n",
       "      <td>-0.017410</td>\n",
       "      <td>0.162223</td>\n",
       "      <td>-0.037191</td>\n",
       "      <td>-0.177591</td>\n",
       "      <td>0.072620</td>\n",
       "    </tr>\n",
       "    <tr>\n",
       "      <th>PTEDUCAT</th>\n",
       "      <td>-0.038884</td>\n",
       "      <td>1.000000</td>\n",
       "      <td>-0.092994</td>\n",
       "      <td>0.265082</td>\n",
       "      <td>-0.173562</td>\n",
       "      <td>0.101674</td>\n",
       "      <td>0.035978</td>\n",
       "      <td>0.006249</td>\n",
       "      <td>-0.183832</td>\n",
       "      <td>0.183832</td>\n",
       "      <td>0.026042</td>\n",
       "      <td>-0.029601</td>\n",
       "      <td>0.009226</td>\n",
       "      <td>0.092550</td>\n",
       "      <td>-0.038442</td>\n",
       "      <td>-0.075040</td>\n",
       "      <td>0.049447</td>\n",
       "    </tr>\n",
       "    <tr>\n",
       "      <th>APOE4</th>\n",
       "      <td>-0.189671</td>\n",
       "      <td>-0.092994</td>\n",
       "      <td>1.000000</td>\n",
       "      <td>-0.274455</td>\n",
       "      <td>0.220970</td>\n",
       "      <td>-0.281807</td>\n",
       "      <td>-0.059225</td>\n",
       "      <td>0.150278</td>\n",
       "      <td>-0.009488</td>\n",
       "      <td>0.009488</td>\n",
       "      <td>-0.030522</td>\n",
       "      <td>-0.230151</td>\n",
       "      <td>0.088848</td>\n",
       "      <td>-0.788255</td>\n",
       "      <td>0.473429</td>\n",
       "      <td>0.717538</td>\n",
       "      <td>-0.215819</td>\n",
       "    </tr>\n",
       "    <tr>\n",
       "      <th>MMSE</th>\n",
       "      <td>-0.093013</td>\n",
       "      <td>0.265082</td>\n",
       "      <td>-0.274455</td>\n",
       "      <td>1.000000</td>\n",
       "      <td>-0.704741</td>\n",
       "      <td>0.468009</td>\n",
       "      <td>0.177233</td>\n",
       "      <td>-0.052516</td>\n",
       "      <td>-0.007680</td>\n",
       "      <td>0.007680</td>\n",
       "      <td>0.037638</td>\n",
       "      <td>0.086369</td>\n",
       "      <td>-0.002139</td>\n",
       "      <td>0.215955</td>\n",
       "      <td>-0.164578</td>\n",
       "      <td>-0.174477</td>\n",
       "      <td>0.300336</td>\n",
       "    </tr>\n",
       "    <tr>\n",
       "      <th>AD</th>\n",
       "      <td>0.069228</td>\n",
       "      <td>-0.173562</td>\n",
       "      <td>0.220970</td>\n",
       "      <td>-0.704741</td>\n",
       "      <td>1.000000</td>\n",
       "      <td>-0.295818</td>\n",
       "      <td>-0.197429</td>\n",
       "      <td>-0.324883</td>\n",
       "      <td>0.052875</td>\n",
       "      <td>-0.052875</td>\n",
       "      <td>-0.015790</td>\n",
       "      <td>-0.091051</td>\n",
       "      <td>-0.006506</td>\n",
       "      <td>-0.172739</td>\n",
       "      <td>0.153196</td>\n",
       "      <td>0.125938</td>\n",
       "      <td>-0.388214</td>\n",
       "    </tr>\n",
       "    <tr>\n",
       "      <th>CN</th>\n",
       "      <td>0.124587</td>\n",
       "      <td>0.101674</td>\n",
       "      <td>-0.281807</td>\n",
       "      <td>0.468009</td>\n",
       "      <td>-0.295818</td>\n",
       "      <td>1.000000</td>\n",
       "      <td>-0.305786</td>\n",
       "      <td>-0.503192</td>\n",
       "      <td>0.043992</td>\n",
       "      <td>-0.043992</td>\n",
       "      <td>0.053379</td>\n",
       "      <td>0.103507</td>\n",
       "      <td>-0.050333</td>\n",
       "      <td>0.218624</td>\n",
       "      <td>-0.166949</td>\n",
       "      <td>-0.170043</td>\n",
       "      <td>0.262275</td>\n",
       "    </tr>\n",
       "    <tr>\n",
       "      <th>EMCI</th>\n",
       "      <td>-0.219967</td>\n",
       "      <td>0.035978</td>\n",
       "      <td>-0.059225</td>\n",
       "      <td>0.177233</td>\n",
       "      <td>-0.197429</td>\n",
       "      <td>-0.305786</td>\n",
       "      <td>1.000000</td>\n",
       "      <td>-0.335830</td>\n",
       "      <td>-0.003949</td>\n",
       "      <td>0.003949</td>\n",
       "      <td>-0.016323</td>\n",
       "      <td>0.055038</td>\n",
       "      <td>-0.035639</td>\n",
       "      <td>0.038258</td>\n",
       "      <td>-0.043227</td>\n",
       "      <td>-0.023715</td>\n",
       "      <td>0.165391</td>\n",
       "    </tr>\n",
       "    <tr>\n",
       "      <th>LMCI</th>\n",
       "      <td>-0.001479</td>\n",
       "      <td>0.006249</td>\n",
       "      <td>0.150278</td>\n",
       "      <td>-0.052516</td>\n",
       "      <td>-0.324883</td>\n",
       "      <td>-0.503192</td>\n",
       "      <td>-0.335830</td>\n",
       "      <td>1.000000</td>\n",
       "      <td>-0.080080</td>\n",
       "      <td>0.080080</td>\n",
       "      <td>-0.026860</td>\n",
       "      <td>-0.073700</td>\n",
       "      <td>0.081712</td>\n",
       "      <td>-0.109553</td>\n",
       "      <td>0.078324</td>\n",
       "      <td>0.086925</td>\n",
       "      <td>-0.086357</td>\n",
       "    </tr>\n",
       "    <tr>\n",
       "      <th>Female</th>\n",
       "      <td>-0.088248</td>\n",
       "      <td>-0.183832</td>\n",
       "      <td>-0.009488</td>\n",
       "      <td>-0.007680</td>\n",
       "      <td>0.052875</td>\n",
       "      <td>0.043992</td>\n",
       "      <td>-0.003949</td>\n",
       "      <td>-0.080080</td>\n",
       "      <td>1.000000</td>\n",
       "      <td>-1.000000</td>\n",
       "      <td>-0.030244</td>\n",
       "      <td>-0.029617</td>\n",
       "      <td>0.004592</td>\n",
       "      <td>0.031427</td>\n",
       "      <td>-0.017706</td>\n",
       "      <td>0.002436</td>\n",
       "      <td>-0.036610</td>\n",
       "    </tr>\n",
       "    <tr>\n",
       "      <th>Male</th>\n",
       "      <td>0.088248</td>\n",
       "      <td>0.183832</td>\n",
       "      <td>0.009488</td>\n",
       "      <td>0.007680</td>\n",
       "      <td>-0.052875</td>\n",
       "      <td>-0.043992</td>\n",
       "      <td>0.003949</td>\n",
       "      <td>0.080080</td>\n",
       "      <td>-1.000000</td>\n",
       "      <td>1.000000</td>\n",
       "      <td>0.030244</td>\n",
       "      <td>0.029617</td>\n",
       "      <td>-0.004592</td>\n",
       "      <td>-0.031427</td>\n",
       "      <td>0.017706</td>\n",
       "      <td>-0.002436</td>\n",
       "      <td>0.036610</td>\n",
       "    </tr>\n",
       "    <tr>\n",
       "      <th>2,2</th>\n",
       "      <td>-0.022703</td>\n",
       "      <td>0.026042</td>\n",
       "      <td>-0.030522</td>\n",
       "      <td>0.037638</td>\n",
       "      <td>-0.015790</td>\n",
       "      <td>0.053379</td>\n",
       "      <td>-0.016323</td>\n",
       "      <td>-0.026860</td>\n",
       "      <td>-0.030244</td>\n",
       "      <td>0.030244</td>\n",
       "      <td>1.000000</td>\n",
       "      <td>-0.009844</td>\n",
       "      <td>-0.004927</td>\n",
       "      <td>-0.033715</td>\n",
       "      <td>-0.026252</td>\n",
       "      <td>-0.012070</td>\n",
       "      <td>0.015272</td>\n",
       "    </tr>\n",
       "    <tr>\n",
       "      <th>2,3</th>\n",
       "      <td>-0.026467</td>\n",
       "      <td>-0.029601</td>\n",
       "      <td>-0.230151</td>\n",
       "      <td>0.086369</td>\n",
       "      <td>-0.091051</td>\n",
       "      <td>0.103507</td>\n",
       "      <td>0.055038</td>\n",
       "      <td>-0.073700</td>\n",
       "      <td>-0.029617</td>\n",
       "      <td>0.029617</td>\n",
       "      <td>-0.009844</td>\n",
       "      <td>1.000000</td>\n",
       "      <td>-0.037150</td>\n",
       "      <td>-0.254232</td>\n",
       "      <td>-0.197952</td>\n",
       "      <td>-0.091014</td>\n",
       "      <td>0.112253</td>\n",
       "    </tr>\n",
       "    <tr>\n",
       "      <th>2,4</th>\n",
       "      <td>-0.017410</td>\n",
       "      <td>0.009226</td>\n",
       "      <td>0.088848</td>\n",
       "      <td>-0.002139</td>\n",
       "      <td>-0.006506</td>\n",
       "      <td>-0.050333</td>\n",
       "      <td>-0.035639</td>\n",
       "      <td>0.081712</td>\n",
       "      <td>0.004592</td>\n",
       "      <td>-0.004592</td>\n",
       "      <td>-0.004927</td>\n",
       "      <td>-0.037150</td>\n",
       "      <td>1.000000</td>\n",
       "      <td>-0.127236</td>\n",
       "      <td>-0.099069</td>\n",
       "      <td>-0.045550</td>\n",
       "      <td>0.019061</td>\n",
       "    </tr>\n",
       "    <tr>\n",
       "      <th>3,3</th>\n",
       "      <td>0.162223</td>\n",
       "      <td>0.092550</td>\n",
       "      <td>-0.788255</td>\n",
       "      <td>0.215955</td>\n",
       "      <td>-0.172739</td>\n",
       "      <td>0.218624</td>\n",
       "      <td>0.038258</td>\n",
       "      <td>-0.109553</td>\n",
       "      <td>0.031427</td>\n",
       "      <td>-0.031427</td>\n",
       "      <td>-0.033715</td>\n",
       "      <td>-0.254232</td>\n",
       "      <td>-0.127236</td>\n",
       "      <td>1.000000</td>\n",
       "      <td>-0.677974</td>\n",
       "      <td>-0.311719</td>\n",
       "      <td>0.155583</td>\n",
       "    </tr>\n",
       "    <tr>\n",
       "      <th>3,4</th>\n",
       "      <td>-0.037191</td>\n",
       "      <td>-0.038442</td>\n",
       "      <td>0.473429</td>\n",
       "      <td>-0.164578</td>\n",
       "      <td>0.153196</td>\n",
       "      <td>-0.166949</td>\n",
       "      <td>-0.043227</td>\n",
       "      <td>0.078324</td>\n",
       "      <td>-0.017706</td>\n",
       "      <td>0.017706</td>\n",
       "      <td>-0.026252</td>\n",
       "      <td>-0.197952</td>\n",
       "      <td>-0.099069</td>\n",
       "      <td>-0.677974</td>\n",
       "      <td>1.000000</td>\n",
       "      <td>-0.242712</td>\n",
       "      <td>-0.150515</td>\n",
       "    </tr>\n",
       "    <tr>\n",
       "      <th>4,4</th>\n",
       "      <td>-0.177591</td>\n",
       "      <td>-0.075040</td>\n",
       "      <td>0.717538</td>\n",
       "      <td>-0.174477</td>\n",
       "      <td>0.125938</td>\n",
       "      <td>-0.170043</td>\n",
       "      <td>-0.023715</td>\n",
       "      <td>0.086925</td>\n",
       "      <td>0.002436</td>\n",
       "      <td>-0.002436</td>\n",
       "      <td>-0.012070</td>\n",
       "      <td>-0.091014</td>\n",
       "      <td>-0.045550</td>\n",
       "      <td>-0.311719</td>\n",
       "      <td>-0.242712</td>\n",
       "      <td>1.000000</td>\n",
       "      <td>-0.125128</td>\n",
       "    </tr>\n",
       "    <tr>\n",
       "      <th>MMSE_NEW_SCORE</th>\n",
       "      <td>0.072620</td>\n",
       "      <td>0.049447</td>\n",
       "      <td>-0.215819</td>\n",
       "      <td>0.300336</td>\n",
       "      <td>-0.388214</td>\n",
       "      <td>0.262275</td>\n",
       "      <td>0.165391</td>\n",
       "      <td>-0.086357</td>\n",
       "      <td>-0.036610</td>\n",
       "      <td>0.036610</td>\n",
       "      <td>0.015272</td>\n",
       "      <td>0.112253</td>\n",
       "      <td>0.019061</td>\n",
       "      <td>0.155583</td>\n",
       "      <td>-0.150515</td>\n",
       "      <td>-0.125128</td>\n",
       "      <td>1.000000</td>\n",
       "    </tr>\n",
       "  </tbody>\n",
       "</table>\n",
       "</div>"
      ],
      "text/plain": [
       "                     AGE  PTEDUCAT     APOE4      MMSE        AD        CN  \\\n",
       "AGE             1.000000 -0.038884 -0.189671 -0.093013  0.069228  0.124587   \n",
       "PTEDUCAT       -0.038884  1.000000 -0.092994  0.265082 -0.173562  0.101674   \n",
       "APOE4          -0.189671 -0.092994  1.000000 -0.274455  0.220970 -0.281807   \n",
       "MMSE           -0.093013  0.265082 -0.274455  1.000000 -0.704741  0.468009   \n",
       "AD              0.069228 -0.173562  0.220970 -0.704741  1.000000 -0.295818   \n",
       "CN              0.124587  0.101674 -0.281807  0.468009 -0.295818  1.000000   \n",
       "EMCI           -0.219967  0.035978 -0.059225  0.177233 -0.197429 -0.305786   \n",
       "LMCI           -0.001479  0.006249  0.150278 -0.052516 -0.324883 -0.503192   \n",
       "Female         -0.088248 -0.183832 -0.009488 -0.007680  0.052875  0.043992   \n",
       "Male            0.088248  0.183832  0.009488  0.007680 -0.052875 -0.043992   \n",
       "2,2            -0.022703  0.026042 -0.030522  0.037638 -0.015790  0.053379   \n",
       "2,3            -0.026467 -0.029601 -0.230151  0.086369 -0.091051  0.103507   \n",
       "2,4            -0.017410  0.009226  0.088848 -0.002139 -0.006506 -0.050333   \n",
       "3,3             0.162223  0.092550 -0.788255  0.215955 -0.172739  0.218624   \n",
       "3,4            -0.037191 -0.038442  0.473429 -0.164578  0.153196 -0.166949   \n",
       "4,4            -0.177591 -0.075040  0.717538 -0.174477  0.125938 -0.170043   \n",
       "MMSE_NEW_SCORE  0.072620  0.049447 -0.215819  0.300336 -0.388214  0.262275   \n",
       "\n",
       "                    EMCI      LMCI    Female      Male       2,2       2,3  \\\n",
       "AGE            -0.219967 -0.001479 -0.088248  0.088248 -0.022703 -0.026467   \n",
       "PTEDUCAT        0.035978  0.006249 -0.183832  0.183832  0.026042 -0.029601   \n",
       "APOE4          -0.059225  0.150278 -0.009488  0.009488 -0.030522 -0.230151   \n",
       "MMSE            0.177233 -0.052516 -0.007680  0.007680  0.037638  0.086369   \n",
       "AD             -0.197429 -0.324883  0.052875 -0.052875 -0.015790 -0.091051   \n",
       "CN             -0.305786 -0.503192  0.043992 -0.043992  0.053379  0.103507   \n",
       "EMCI            1.000000 -0.335830 -0.003949  0.003949 -0.016323  0.055038   \n",
       "LMCI           -0.335830  1.000000 -0.080080  0.080080 -0.026860 -0.073700   \n",
       "Female         -0.003949 -0.080080  1.000000 -1.000000 -0.030244 -0.029617   \n",
       "Male            0.003949  0.080080 -1.000000  1.000000  0.030244  0.029617   \n",
       "2,2            -0.016323 -0.026860 -0.030244  0.030244  1.000000 -0.009844   \n",
       "2,3             0.055038 -0.073700 -0.029617  0.029617 -0.009844  1.000000   \n",
       "2,4            -0.035639  0.081712  0.004592 -0.004592 -0.004927 -0.037150   \n",
       "3,3             0.038258 -0.109553  0.031427 -0.031427 -0.033715 -0.254232   \n",
       "3,4            -0.043227  0.078324 -0.017706  0.017706 -0.026252 -0.197952   \n",
       "4,4            -0.023715  0.086925  0.002436 -0.002436 -0.012070 -0.091014   \n",
       "MMSE_NEW_SCORE  0.165391 -0.086357 -0.036610  0.036610  0.015272  0.112253   \n",
       "\n",
       "                     2,4       3,3       3,4       4,4  MMSE_NEW_SCORE  \n",
       "AGE            -0.017410  0.162223 -0.037191 -0.177591        0.072620  \n",
       "PTEDUCAT        0.009226  0.092550 -0.038442 -0.075040        0.049447  \n",
       "APOE4           0.088848 -0.788255  0.473429  0.717538       -0.215819  \n",
       "MMSE           -0.002139  0.215955 -0.164578 -0.174477        0.300336  \n",
       "AD             -0.006506 -0.172739  0.153196  0.125938       -0.388214  \n",
       "CN             -0.050333  0.218624 -0.166949 -0.170043        0.262275  \n",
       "EMCI           -0.035639  0.038258 -0.043227 -0.023715        0.165391  \n",
       "LMCI            0.081712 -0.109553  0.078324  0.086925       -0.086357  \n",
       "Female          0.004592  0.031427 -0.017706  0.002436       -0.036610  \n",
       "Male           -0.004592 -0.031427  0.017706 -0.002436        0.036610  \n",
       "2,2            -0.004927 -0.033715 -0.026252 -0.012070        0.015272  \n",
       "2,3            -0.037150 -0.254232 -0.197952 -0.091014        0.112253  \n",
       "2,4             1.000000 -0.127236 -0.099069 -0.045550        0.019061  \n",
       "3,3            -0.127236  1.000000 -0.677974 -0.311719        0.155583  \n",
       "3,4            -0.099069 -0.677974  1.000000 -0.242712       -0.150515  \n",
       "4,4            -0.045550 -0.311719 -0.242712  1.000000       -0.125128  \n",
       "MMSE_NEW_SCORE  0.019061  0.155583 -0.150515 -0.125128        1.000000  "
      ]
     },
     "execution_count": 696,
     "metadata": {},
     "output_type": "execute_result"
    },
    {
     "data": {
      "image/png": "[encoded data removed]",
      "text/plain": [
       "<Figure size 1440x720 with 2 Axes>"
      ]
     },
     "metadata": {
      "needs_background": "light"
     },
     "output_type": "display_data"
    }
   ],
   "source": [
    "print('HEAT MAP :\\n')\n",
    "\n",
    "plt.figure(figsize=(20,10))\n",
    "c= data.corr()\n",
    "sns.heatmap(c,cmap=\"BrBG\",annot=True)\n",
    "c"
   ]
  },
  {
   "cell_type": "markdown",
   "metadata": {},
   "source": [
    "This map shows how impactful the variables are in determining the new MMSE Score. "
   ]
  },
  {
   "cell_type": "markdown",
   "metadata": {},
   "source": [
    "#### Model 1 : Linear Regression using the most impactful variables "
   ]
  },
  {
   "cell_type": "code",
   "execution_count": 697,
   "metadata": {},
   "outputs": [],
   "source": [
    "X = data.drop([\"MMSE_NEW_SCORE\"], axis=1)\n",
    "y = data[\"MMSE_NEW_SCORE\"]\n",
    "r = len(y)\n",
    "for var in range(0,r): #Edited so that a decline of 5 points is the largest \n",
    "    if (var % 2 == 1):\n",
    "        continue\n",
    "    if (y.at[var] < -5):\n",
    "        y.at[var] = -5\n",
    "    if (y.at[var] > 5):\n",
    "        y.at[var] = 5\n",
    "X_train, X_test, y_train, y_test = train_test_split(X, y, test_size=0.2, random_state=120)"
   ]
  },
  {
   "cell_type": "code",
   "execution_count": 698,
   "metadata": {},
   "outputs": [
    {
     "data": {
      "text/plain": [
       "(613, 16)"
      ]
     },
     "execution_count": 698,
     "metadata": {},
     "output_type": "execute_result"
    }
   ],
   "source": [
    "X_train.shape"
   ]
  },
  {
   "cell_type": "code",
   "execution_count": 699,
   "metadata": {},
   "outputs": [
    {
     "data": {
      "text/plain": [
       "(154, 16)"
      ]
     },
     "execution_count": 699,
     "metadata": {},
     "output_type": "execute_result"
    }
   ],
   "source": [
    "X_test.shape\n"
   ]
  },
  {
   "cell_type": "code",
   "execution_count": 700,
   "metadata": {},
   "outputs": [],
   "source": [
    "scaler = StandardScaler()\n",
    "train_scaled = scaler.fit_transform(X_train)\n",
    "test_scaled = scaler.transform(X_test) #Scaling data\n",
    "model = LinearRegression()\n",
    "model.fit(train_scaled, y_train)\n",
    "mse = mean_squared_error(y_train, model.predict(train_scaled))\n",
    "mae = mean_absolute_error(y_train, model.predict(train_scaled))\n"
   ]
  },
  {
   "cell_type": "code",
   "execution_count": 701,
   "metadata": {},
   "outputs": [
    {
     "name": "stdout",
     "output_type": "stream",
     "text": [
      "mse =  2.19052003  & mae =  1.33190629  & rmse =  1.48004055\n",
      "\n",
      "\n",
      "mae = mean absolute error. (MAE) is a measure of errors between paired observations expressing the same phenomenon. \n",
      "mse = mean squared error. (MSE) is a measure of the average of the squares of the errors. \n",
      "rmse = Root Mean Square Error. (RMSE) is the standard deviation of the residuals (prediction errors).\n"
     ]
    }
   ],
   "source": [
    "print(\"mse = \",mse,\" & mae = \",mae,\" & rmse = \", sqrt(mse))\n",
    "print (\"\\n\")\n",
    "print(\"mae = mean absolute error. (MAE) is a measure of errors between paired observations expressing the same phenomenon. \")\n",
    "print(\"mse = mean squared error. (MSE) is a measure of the average of the squares of the errors. \")\n",
    "print(\"rmse = Root Mean Square Error. (RMSE) is the standard deviation of the residuals (prediction errors).\")"
   ]
  },
  {
   "cell_type": "markdown",
   "metadata": {},
   "source": [
    "#### Model 2 : Decision Trees & Random Forests"
   ]
  },
  {
   "cell_type": "code",
   "execution_count": 702,
   "metadata": {},
   "outputs": [],
   "source": [
    "tree_model = DecisionTreeRegressor()\n",
    "rf_model = RandomForestRegressor()"
   ]
  },
  {
   "cell_type": "code",
   "execution_count": 703,
   "metadata": {},
   "outputs": [
    {
     "data": {
      "text/plain": [
       "RandomForestRegressor()"
      ]
     },
     "execution_count": 703,
     "metadata": {},
     "output_type": "execute_result"
    }
   ],
   "source": [
    "tree_model.fit(train_scaled, y_train)\n",
    "rf_model.fit(train_scaled, y_train)"
   ]
  },
  {
   "cell_type": "code",
   "execution_count": 704,
   "metadata": {},
   "outputs": [
    {
     "name": "stdout",
     "output_type": "stream",
     "text": [
      "Decision Tree training mse =  0.004078303425774877  & mae =  0.004893964110929853  & rmse =  0.06386159585991316\n",
      "Random Forest training mse =  1.332707384882719  & mae =  0.7902637302882001  & rmse =  1.1544294629308103\n"
     ]
    }
   ],
   "source": [
    "tree_mse = mean_squared_error(y_train, tree_model.predict(train_scaled))\n",
    "tree_mae = mean_absolute_error(y_train, tree_model.predict(train_scaled))\n",
    "rf_mse = mean_squared_error(y_train, rf_model.predict(train_scaled))\n",
    "rf_mae = mean_absolute_error(y_train, rf_model.predict(train_scaled))\n",
    "print(\"Decision Tree training mse = \",tree_mse,\" & mae = \",tree_mae,\" & rmse = \", sqrt(tree_mse))\n",
    "print(\"Random Forest training mse = \",rf_mse,\" & mae = \",rf_mae,\" & rmse = \", sqrt(rf_mse))"
   ]
  },
  {
   "cell_type": "code",
   "execution_count": 705,
   "metadata": {},
   "outputs": [
    {
     "name": "stdout",
     "output_type": "stream",
     "text": [
      "Decision Tree test mse =  14.844155844155845  & mae =  2.5194805194805197  & rmse =  3.852811420788181\n",
      "Random Forest test mse =  8.457144037698415  & mae =  2.163306277056277  & rmse =  2.908116922975831\n"
     ]
    }
   ],
   "source": [
    "tree_test_mse = mean_squared_error(y_test, tree_model.predict(test_scaled))\n",
    "tree_test_mae = mean_absolute_error(y_test, tree_model.predict(test_scaled))\n",
    "rf_test_mse = mean_squared_error(y_test, rf_model.predict(test_scaled))\n",
    "rf_test_mae = mean_absolute_error(y_test, rf_model.predict(test_scaled))\n",
    "print(\"Decision Tree test mse = \",tree_test_mse,\" & mae = \",tree_test_mae,\" & rmse = \", sqrt(tree_test_mse))\n",
    "print(\"Random Forest test mse = \",rf_test_mse,\" & mae = \",rf_test_mae,\" & rmse = \", sqrt(rf_test_mse))"
   ]
  },
  {
   "cell_type": "code",
   "execution_count": 706,
   "metadata": {},
   "outputs": [
    {
     "data": {
      "text/plain": [
       "-0.42718955962881644"
      ]
     },
     "execution_count": 706,
     "metadata": {},
     "output_type": "execute_result"
    }
   ],
   "source": [
    "explained_variance_score(y_test, tree_model.predict(test_scaled))"
   ]
  },
  {
   "cell_type": "code",
   "execution_count": 707,
   "metadata": {},
   "outputs": [
    {
     "data": {
      "text/plain": [
       "0.18773105069066431"
      ]
     },
     "execution_count": 707,
     "metadata": {},
     "output_type": "execute_result"
    }
   ],
   "source": [
    "explained_variance_score(y_test, rf_model.predict(test_scaled))"
   ]
  },
  {
   "cell_type": "markdown",
   "metadata": {},
   "source": [
    "#### Model 3: Neural Networks & K Nearest Neighbors"
   ]
  },
  {
   "cell_type": "code",
   "execution_count": 708,
   "metadata": {},
   "outputs": [],
   "source": [
    "model = MLPClassifier()\n"
   ]
  },
  {
   "cell_type": "code",
   "execution_count": 709,
   "metadata": {},
   "outputs": [
    {
     "data": {
      "text/plain": [
       "MLPClassifier()"
      ]
     },
     "execution_count": 709,
     "metadata": {},
     "output_type": "execute_result"
    }
   ],
   "source": [
    "model.fit(train_scaled, y_train)\n"
   ]
  },
  {
   "cell_type": "code",
   "execution_count": 710,
   "metadata": {},
   "outputs": [
    {
     "data": {
      "text/plain": [
       "0.3931484502446982"
      ]
     },
     "execution_count": 710,
     "metadata": {},
     "output_type": "execute_result"
    }
   ],
   "source": [
    "accuracy_score(y_train, model.predict(train_scaled))"
   ]
  },
  {
   "cell_type": "code",
   "execution_count": 711,
   "metadata": {},
   "outputs": [
    {
     "data": {
      "text/plain": [
       "0.22727272727272727"
      ]
     },
     "execution_count": 711,
     "metadata": {},
     "output_type": "execute_result"
    }
   ],
   "source": [
    "accuracy_score(y_test, model.predict(test_scaled))"
   ]
  },
  {
   "cell_type": "code",
   "execution_count": 712,
   "metadata": {},
   "outputs": [
    {
     "data": {
      "text/plain": [
       "KNeighborsRegressor()"
      ]
     },
     "execution_count": 712,
     "metadata": {},
     "output_type": "execute_result"
    }
   ],
   "source": [
    "model = KNeighborsRegressor()\n",
    "model.fit(train_scaled, y_train)\n"
   ]
  },
  {
   "cell_type": "code",
   "execution_count": 713,
   "metadata": {},
   "outputs": [],
   "source": [
    "mse = mean_squared_error(y_train, model.predict(train_scaled))\n",
    "mae = mean_absolute_error(y_train, model.predict(train_scaled))"
   ]
  },
  {
   "cell_type": "code",
   "execution_count": 714,
   "metadata": {},
   "outputs": [
    {
     "name": "stdout",
     "output_type": "stream",
     "text": [
      "mse =  10.586493506493508  & mae =  2.2311688311688305  & rmse =  3.2536892147981047\n"
     ]
    }
   ],
   "source": [
    "test_mse = mean_squared_error(y_test, model.predict(test_scaled))\n",
    "test_mae = mean_absolute_error(y_test, model.predict(test_scaled))\n",
    "print(\"mse = \",test_mse,\" & mae = \",test_mae,\" & rmse = \", sqrt(test_mse))"
   ]
  },
  {
   "cell_type": "markdown",
   "metadata": {},
   "source": [
    "#### Model 4: ElasticNet"
   ]
  },
  {
   "cell_type": "code",
   "execution_count": 715,
   "metadata": {},
   "outputs": [],
   "source": [
    "model = ElasticNet(alpha=0.001, l1_ratio=1)"
   ]
  },
  {
   "cell_type": "code",
   "execution_count": 716,
   "metadata": {},
   "outputs": [],
   "source": [
    "cv = RepeatedKFold(n_splits=7, n_repeats=5, random_state=1)"
   ]
  },
  {
   "cell_type": "code",
   "execution_count": 717,
   "metadata": {},
   "outputs": [],
   "source": [
    "scores = cross_val_score(model, X, y, scoring='neg_mean_absolute_error', cv=cv, n_jobs=-1)\n",
    "scores = absolute(scores)"
   ]
  },
  {
   "cell_type": "code",
   "execution_count": 718,
   "metadata": {},
   "outputs": [
    {
     "name": "stdout",
     "output_type": "stream",
     "text": [
      "Mean MAE: 1.01558442 (0.182) \n"
     ]
    }
   ],
   "source": [
    "print('Mean MAE: %.3f (%.3f)' % (mean(scores), std(scores)))"
   ]
  },
  {
   "cell_type": "markdown",
   "metadata": {},
   "source": [
    "# Conclusion"
   ]
  },
  {
   "cell_type": "markdown",
   "metadata": {},
   "source": [
    "The ElasticNet algorithm produces the most accurate model for predicting the change in MMSE score and we will use it to determine the classification accuracy "
   ]
  },
  {
   "cell_type": "code",
   "execution_count": 719,
   "metadata": {},
   "outputs": [],
   "source": [
    "model.fit(X, y)\n",
    "arr = model.predict(X)\n",
    "r = len(arr)\n",
    "for var in range(0,r):\n",
    "    if (arr[var] > 0):\n",
    "        if (arr[var] - math.floor(arr[var]) > 0.5):\n",
    "            arr[var] = math.ceil(arr[var])\n",
    "        else: \n",
    "            arr[var] = math.floor(arr[var])\n",
    "    if (arr[var] < 0):\n",
    "        if (absolute(arr[var]) - absolute(math.ceil(arr[var])) > 0.5):\n",
    "            arr[var] = math.floor(arr[var])\n",
    "        else: \n",
    "            arr[var] = math.ceil(arr[var])"
   ]
  },
  {
   "cell_type": "markdown",
   "metadata": {},
   "source": [
    "The above code is to convert the scores to whole numbers (-5, -4, -3, -2, -1, 0, 1, 2, 3, 4, 5) "
   ]
  },
  {
   "cell_type": "code",
   "execution_count": 720,
   "metadata": {},
   "outputs": [
    {
     "name": "stdout",
     "output_type": "stream",
     "text": [
      "Classification accuracy: \n",
      "\n",
      "0.4312751285071022\n"
     ]
    }
   ],
   "source": [
    "r = len(arr)\n",
    "count = 0\n",
    "t2 = 0\n",
    "for var in range(0,r):\n",
    "    if (arr[var] == y[t2]): \n",
    "        count = count + 1\n",
    "    t2 = t2 + 2\n",
    "\n",
    "print(\"Classification accuracy: \\n\")\n",
    "print(count/r)"
   ]
  },
  {
   "cell_type": "markdown",
   "metadata": {},
   "source": [
    "##### The Classification Accuracy for the most optimal machine learning model is 0.4312751285071022, which means that the model will be able to predict the decrease in MMSE scores over a 2 year period perfectly around 50% of the time. "
   ]
  },
  {
   "cell_type": "code",
   "execution_count": 721,
   "metadata": {},
   "outputs": [
    {
     "name": "stdout",
     "output_type": "stream",
     "text": [
      "Classification accuracy: \n",
      "\n",
      "0.824006518904824\n"
     ]
    }
   ],
   "source": [
    "r = len(arr)\n",
    "count = 0\n",
    "t2 = 0\n",
    "for var in range(0,r):\n",
    "    if (arr[var] == y[t2]): \n",
    "        count = count + 1\n",
    "    if (arr[var] == y[t2] + 1): \n",
    "        count = count + 1\n",
    "    if (arr[var] == y[t2] - 1): \n",
    "        count = count + 1\n",
    "    t2 = t2 + 2\n",
    "\n",
    "print(\"Classification accuracy: \\n\")\n",
    "print(count/r)"
   ]
  },
  {
   "cell_type": "markdown",
   "metadata": {},
   "source": [
    "##### When we check for predicting the decrease in MMSE score by accepting a margin of error of 1 we have a classification accuracy of 0.824006518904824. This means that we can predict the decrease of an MMSE score in a patient over a time of 2 years (with a Margin of Error of 1) with an accuracy of around 82%"
   ]
  },
  {
   "cell_type": "code",
   "execution_count": null,
   "metadata": {},
   "outputs": [],
   "source": []
  }
 ],
 "metadata": {
  "kernelspec": {
   "display_name": "Python 3",
   "language": "python",
   "name": "python3"
  },
  "language_info": {
   "codemirror_mode": {
    "name": "ipython",
    "version": 3
   },
   "file_extension": ".py",
   "mimetype": "text/x-python",
   "name": "python",
   "nbconvert_exporter": "python",
   "pygments_lexer": "ipython3",
   "version": "3.8.5"
  }
 },
 "nbformat": 4,
 "nbformat_minor": 4
}
